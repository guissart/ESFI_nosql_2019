{
 "cells": [
  {
   "cell_type": "code",
   "execution_count": 1,
   "metadata": {},
   "outputs": [],
   "source": [
    "import requests\n",
    "from pymongo import MongoClient"
   ]
  },
  {
   "cell_type": "code",
   "execution_count": 2,
   "metadata": {},
   "outputs": [
    {
     "name": "stdout",
     "output_type": "stream",
     "text": [
      "{'user': 'Albertine', 'content': {'keywords': '4KdGGe8q3O5nsYJrzZI83EkBzyY6rBUwm7c2mktp9zMBxw36wLezpzaY794zLZ576h9sCCSMbEoJbrPHd3', 'limit': 9}}\n",
      "{'user': 'Clement', 'content': {'keywords': '2bAx429a0CcnMJYVeZKCVtFUyNAR8cuan5Hs7RC8uPvgztcNsWqoq6iYTTQ15kc', 'qTVxLyFfob': 'XFIL7Fbw5iP4bIVdOgphGjde5MUla5R8KATSg5oloeqAWlNLBd3hx', 'limit': 9}}\n",
      "{'user': 'ortbRe', 'content': {'keywords': 'luWtMIkkOWR21AKbvFbiCUvBWTyKJAa447yQQSbEO2', 'QCr276eqI8Vk5P': 'PytZDy7boX4ABSCiJeJLmPZMy8ISexL36e3JMaUb7YLJRn1BCLnZAmM9vu2J2NN82RRO1M09LMTDaVeNGBMgYzqt', 'sd': 'f0eiR66TS73', 'limit': 20}}\n",
      "{'user': 'letrbieAn', 'content': {'keywords': 'YE', 'limit': 29}}\n",
      "{'user': 'eJno-Laen', 'content': {'keywords': 'p9hb6dm0ghRyty4gJb6jEjM2bKiSAEo0NGbUUyUaQLJjjNA2YGmD', '8': 'bTY4tCstq9Fk3dfd41XolKYoJFKnFT4RM2VgFoJ6xorBCGOHIM53x3rgIcEo5IgSLb8qA', 'w8hYJUEyBmkGqRJR8s': 'NR9v72', 'limit': 9}}\n",
      "{'user': 'ecynleoJ', 'content': {'keywords': 'XUgC2xS7sRVN8exHO2TsdpUBRXUCAhiycyae63myUhm3wTLkWEN94HLVFFygXQOapZpv2', '4X3r0zkLUgqHqvpc': '4SZkQQ80f8pLaaQ7dh8NCUHTlokQNwhSohce7lemtD8EO', 'M2gUPSOxL9V60JCiC1zO': 'Hau4E8cjXb5ZrZPjOm5YibZ2Oh', 'limit': 20}}\n",
      "{'user': 'Clement', 'content': {'keywords': 'JP3', 'options': 'kVRENfnIkfui7tGtgKABj9mcc3eVTiBedsS0IfJ2vdkDG16XMGy5QVi2YwYSOz622Y2', 'limit': 23}}\n",
      "{'user': 'Monique', 'content': {'keywords': '3GzkSP98opQHI55NQ60Vi', 'H9MScikeuoV4IN': 'SWjhM00S5OJbPEuulEgeQyz43X07GN2zKlRxmSpsG9EwN809MhnDPWHSUI0Bv2afo1MLTcdAlS7907iNoGqeD86xQ78m', 'limit': 6}}\n",
      "{'user': 'Albertine', 'content': {'keywords': '70WIJ4xejo9w0XhxDtrLttQ1Nt', 'options': 'vVpL3qILaMjp5HzCHwTfanGVQ9MRXfhsbHde8V0jIjI', 'limit': 25}}\n",
      "{'user': 'Leon', 'content': {'keywords': 'tvD5l8A5QL0KXSOdNqD9TyDApHozihmMN0S88sdZeeJb7xpUY24RBHr0pQzH7WuUWm35Pg43vNfCkExj', 'BaijCiIsSqAOVv': 'hyQ6OUakIpW33tmK5x3o9l6Cdxc2sHOKfER4z1ohqlltOHeTehioDo0QWcToUH9am0eV1DdrYyVNg', 'limit': 6}}\n"
     ]
    }
   ],
   "source": [
    "for i in range(10):\n",
    "    r = requests.get(\"http://ihm/users_search_preferences.php\")\n",
    "    print(r.json())"
   ]
  },
  {
   "cell_type": "code",
   "execution_count": 3,
   "metadata": {},
   "outputs": [
    {
     "name": "stdout",
     "output_type": "stream",
     "text": [
      "<pymongo.cursor.Cursor object at 0x7fa2cdfef7f0>\n",
      "[{'_id': ObjectId('5ccc03349abe298d6e1bcd3d'), 'x': 42}, {'_id': ObjectId('5ccc09512fb29b19cd3105c4'), 'x': 442.0}, {'_id': ObjectId('5d075f26b05393f071d41618'), 'x': 42}]\n"
     ]
    }
   ],
   "source": [
    "client = MongoClient('mongodb',27017)\n",
    "\n",
    "db = client['mabdd']\n",
    "collection = db['macollection']\n",
    "collection.insert_one({'x':42,'y':42})\n",
    "results = collection.find({},{'x':1})\n",
    "print(results)\n",
    "print([result for result in results])"
   ]
  },
  {
   "cell_type": "markdown",
   "metadata": {},
   "source": [
    "##  MongoDB tutorial :\n",
    "https://api.mongodb.com/python/current/tutorial.html\n",
    "\n",
    "https://api.mongodb.com/python/current/examples/aggregation.html?highlight=aggregation\n",
    "\n",
    "https://docs.mongodb.com/manual/reference/operator/\n",
    "\n",
    "https://docs.mongodb.com/manual/reference/operator/aggregation/group/#pipe._S_group"
   ]
  },
  {
   "cell_type": "code",
   "execution_count": null,
   "metadata": {},
   "outputs": [],
   "source": []
  }
 ],
 "metadata": {
  "kernelspec": {
   "display_name": "Python 3",
   "language": "python",
   "name": "python3"
  },
  "language_info": {
   "codemirror_mode": {
    "name": "ipython",
    "version": 3
   },
   "file_extension": ".py",
   "mimetype": "text/x-python",
   "name": "python",
   "nbconvert_exporter": "python",
   "pygments_lexer": "ipython3",
   "version": "3.7.3"
  }
 },
 "nbformat": 4,
 "nbformat_minor": 2
}

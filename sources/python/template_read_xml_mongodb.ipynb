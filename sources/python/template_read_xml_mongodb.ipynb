{
 "cells": [
  {
   "cell_type": "code",
   "execution_count": null,
   "metadata": {},
   "outputs": [],
   "source": [
    "import requests\n",
    "from pymongo import MongoClient\n",
    "import xmltodict\n",
    "data_path = \"../data/mongodb_xml/ai.stackexchange.com/Posts.xml\""
   ]
  },
  {
   "cell_type": "code",
   "execution_count": 2,
   "metadata": {},
   "outputs": [
    {
     "name": "stdout",
     "output_type": "stream",
     "text": [
      "﻿<?xml version=\"1.0\" encoding=\"utf-8\"?>\n",
      "\n",
      "<posts>\n",
      "\n",
      "  <row Id=\"1\" PostTypeId=\"1\" AcceptedAnswerId=\"3\" CreationDate=\"2016-08-02T15:39:14.947\" Score=\"8\" ViewCount=\"384\" Body=\"&lt;p&gt;What does &quot;backprop&quot; mean? I've Googled it, but it's showing backpropagation.&lt;/p&gt;&#xA;&#xA;&lt;p&gt;Is the &quot;backprop&quot; term basically the same as &quot;backpropagation&quot; or does it have a different meaning?&lt;/p&gt;&#xA;\" OwnerUserId=\"8\" LastEditorUserId=\"10135\" LastEditDate=\"2018-10-18T10:45:18.660\" LastActivityDate=\"2018-10-18T10:45:18.660\" Title=\"What is &quot;backprop&quot;?\" Tags=\"&lt;neural-networks&gt;&lt;backpropagation&gt;&lt;terminology&gt;&lt;definitions&gt;\" AnswerCount=\"3\" CommentCount=\"3\" FavoriteCount=\"1\" />\n",
      "\n",
      "OrderedDict([('row', OrderedDict([('@Id', '1'), ('@PostTypeId', '1'), ('@AcceptedAnswerId', '3'), ('@CreationDate', '2016-08-02T15:39:14.947'), ('@Score', '8'), ('@ViewCount', '384'), ('@Body', '<p>What does \"backprop\" mean? I\\'ve Googled it, but it\\'s showing backpropagation.</p>\\n\\n<p>Is the \"backprop\" term basically the same as \"backpropagation\" or does it have a different meaning?</p>\\n'), ('@OwnerUserId', '8'), ('@LastEditorUserId', '10135'), ('@LastEditDate', '2018-10-18T10:45:18.660'), ('@LastActivityDate', '2018-10-18T10:45:18.660'), ('@Title', 'What is \"backprop\"?'), ('@Tags', '<neural-networks><backpropagation><terminology><definitions>'), ('@AnswerCount', '3'), ('@CommentCount', '3'), ('@FavoriteCount', '1')]))])\n",
      "Titre : \n",
      " What is \"backprop\"?\n"
     ]
    }
   ],
   "source": [
    "with open(data_path,'r') as file :\n",
    "    line = file.readline()\n",
    "    print(line)\n",
    "    line = file.readline()\n",
    "    print(line)\n",
    "    line = file.readline()\n",
    "    print(line)\n",
    "    dict_test = xmltodict.parse(line)\n",
    "    print(dict_test)\n",
    "    print(\"Titre : \\n\",dict_test['row']['@Title'])"
   ]
  },
  {
   "cell_type": "code",
   "execution_count": null,
   "metadata": {},
   "outputs": [],
   "source": []
  }
 ],
 "metadata": {
  "kernelspec": {
   "display_name": "Python 3",
   "language": "python",
   "name": "python3"
  },
  "language_info": {
   "codemirror_mode": {
    "name": "ipython",
    "version": 3
   },
   "file_extension": ".py",
   "mimetype": "text/x-python",
   "name": "python",
   "nbconvert_exporter": "python",
   "pygments_lexer": "ipython3",
   "version": "3.7.3"
  }
 },
 "nbformat": 4,
 "nbformat_minor": 2
}

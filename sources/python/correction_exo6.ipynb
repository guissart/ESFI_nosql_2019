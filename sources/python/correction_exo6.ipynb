{
 "cells": [
  {
   "cell_type": "code",
   "execution_count": 1,
   "metadata": {},
   "outputs": [],
   "source": [
    "import requests\n",
    "from pymongo import MongoClient"
   ]
  },
  {
   "cell_type": "code",
   "execution_count": 2,
   "metadata": {},
   "outputs": [],
   "source": [
    "client = MongoClient('mongodb', 27017)\n",
    "db = client['mabdd']\n",
    "collection = db['preferences']\n",
    "collection.delete_many({})\n",
    "collection.find_one()"
   ]
  },
  {
   "cell_type": "code",
   "execution_count": 3,
   "metadata": {},
   "outputs": [],
   "source": [
    "for i in range(1000):\n",
    "    r = requests.get(\"http://ihm/users_search_preferences.php\")\n",
    "    collection.insert_one(r.json())\n",
    "    \n",
    "    # print(r.json())"
   ]
  },
  {
   "cell_type": "code",
   "execution_count": 4,
   "metadata": {},
   "outputs": [
    {
     "data": {
      "text/plain": [
       "['Clement',\n",
       " 'eiMchl',\n",
       " 'Robert',\n",
       " 'Albertine',\n",
       " 'niueqMo',\n",
       " 'Jocelyne',\n",
       " 'elencyJo',\n",
       " 'Michel',\n",
       " 'eLon',\n",
       " 'dnra',\n",
       " 'Monique',\n",
       " 'Alibretne',\n",
       " 'Jean-Leon',\n",
       " 'enaeoJn-L',\n",
       " 'Leon',\n",
       " 'tlCemne',\n",
       " 'tirAneelb',\n",
       " 'Abtenrlei',\n",
       " 'Mhilce',\n",
       " 'etenmCl',\n",
       " 'ardn',\n",
       " 'euiMnoq',\n",
       " 'nrad',\n",
       " 'lhcMei',\n",
       " 'e-eJnnLao',\n",
       " 'nJlyeoce',\n",
       " 'lnyeJcoe',\n",
       " 'nrda',\n",
       " 'beAtneilr',\n",
       " 'neLo',\n",
       " 'lhciMe',\n",
       " 'ltrbeeinA',\n",
       " 'ndra',\n",
       " 'oeuMqni',\n",
       " 'telnCem',\n",
       " 'orbetR',\n",
       " 'Jeoenycl',\n",
       " 'Retobr',\n",
       " 'enyleJoc',\n",
       " 'ernbAietl',\n",
       " 'a-oenneLJ',\n",
       " 'nbiertAel',\n",
       " 'LoannJee-',\n",
       " 'Mhilec',\n",
       " 'nelJoecy',\n",
       " 'ielhMc',\n",
       " 'uMenoiq',\n",
       " 'eilcMh',\n",
       " 'Aielrtenb',\n",
       " 'yeclJnoe',\n",
       " 'lJeneocy',\n",
       " 'andr',\n",
       " 'eRtrbo',\n",
       " 'ionMque',\n",
       " 'Rtobre',\n",
       " 'rdan',\n",
       " 'darn',\n",
       " 'enletCm',\n",
       " 'danr',\n",
       " 'Lnoe',\n",
       " 'ielbrentA',\n",
       " 'lehMic',\n",
       " 'oeLnJaen-',\n",
       " 'Arntiebel',\n",
       " 'tmneCle',\n",
       " 'dran',\n",
       " 'oJeyelcn',\n",
       " 'hecMil',\n",
       " 'oerRbt',\n",
       " 'eJaLn-one',\n",
       " 'Muqinoe',\n",
       " 'rnda',\n",
       " 'iAreltnbe',\n",
       " 'Lone',\n",
       " 'enLeaonJ-',\n",
       " 'nltbreieA',\n",
       " 'oneL',\n",
       " 'neoL',\n",
       " 'hMleic',\n",
       " 'adnr',\n",
       " 'btArineel',\n",
       " 'eritbAlne',\n",
       " 'Jyeelcon',\n",
       " 'brotRe',\n",
       " 'aLeone-Jn',\n",
       " 'eborRt',\n",
       " 'oueqniM',\n",
       " 'aeoJnen-L',\n",
       " 'nAlreitbe',\n",
       " 'ilerAetbn',\n",
       " 'eMlchi',\n",
       " 'ieretnblA',\n",
       " 'Mqeunoi',\n",
       " 'Lnene-Joa',\n",
       " 'rdna',\n",
       " 'Cmtelen',\n",
       " 'ndar',\n",
       " 'nuqMeio',\n",
       " 'arnd',\n",
       " 'enLo',\n",
       " 'cMlhie',\n",
       " 'eMionqu',\n",
       " 'enoenJ-aL',\n",
       " 'ntriAblee',\n",
       " 'eoynJlec',\n",
       " 'treRob',\n",
       " 'mnCtlee',\n",
       " 'iqnMeou',\n",
       " 'eoeclyJn',\n",
       " 'bretAenil',\n",
       " 'JeoneanL-',\n",
       " 'leAenirtb',\n",
       " 'otrbRe',\n",
       " 'Rtreob',\n",
       " 'drna',\n",
       " 'nard',\n",
       " 'Mclhei',\n",
       " 'nLeoena-J',\n",
       " 'nquoeiM',\n",
       " 'lMchie',\n",
       " 'Ctelmne',\n",
       " 'elenJcyo',\n",
       " 'qoMinue',\n",
       " 'clMhie',\n",
       " 'etbrRo',\n",
       " 'Mielch',\n",
       " 'JanneeoL-',\n",
       " 'rand',\n",
       " 'etenrbiAl',\n",
       " 'hlecMi',\n",
       " 'yeelcJno',\n",
       " 'radn',\n",
       " 'quMnieo',\n",
       " 'ciMehl',\n",
       " 'nLoe',\n",
       " 'Mqeionu',\n",
       " 'neLoneaJ-',\n",
       " 'nclyeJeo',\n",
       " 'inqueoM',\n",
       " 'ltemnCe',\n",
       " 'oelcyJne',\n",
       " 'oJnLnae-e',\n",
       " 'ceeyolJn',\n",
       " 'ebniAerlt',\n",
       " 'tnemeCl',\n",
       " 'nadr',\n",
       " 'rAetienlb',\n",
       " 'Jenoae-nL',\n",
       " 'nuieMoq',\n",
       " 'ioMqenu',\n",
       " 'oLen',\n",
       " 'teRorb',\n",
       " 'nmtleeC',\n",
       " 'eJncoyle',\n",
       " 'eotrRb',\n",
       " 'bRerto',\n",
       " 'Lonnae-eJ',\n",
       " 'rnad',\n",
       " 'dnar',\n",
       " 'no-JLneae',\n",
       " 'ebRrto',\n",
       " 'Jcyoleen',\n",
       " 'nMoeuqi',\n",
       " 'annLo-eeJ',\n",
       " 'oenL',\n",
       " 'oeLn',\n",
       " 'nrtiAbele',\n",
       " 'ionqeuM',\n",
       " 'iqneuoM',\n",
       " 'Jelcnyoe',\n",
       " 'eCenmtl',\n",
       " 'qeMoiun',\n",
       " 'eaLe-oJnn',\n",
       " 'beroRt',\n",
       " 'elecoJny',\n",
       " 'hcielM',\n",
       " 'oLne',\n",
       " 'noLe',\n",
       " 'Mehicl',\n",
       " 'eunioqM',\n",
       " 'erbotR']"
      ]
     },
     "execution_count": 4,
     "metadata": {},
     "output_type": "execute_result"
    }
   ],
   "source": [
    "l_unique = collection.distinct(\n",
    "    \"user\" )\n",
    "l_unique"
   ]
  },
  {
   "cell_type": "code",
   "execution_count": 5,
   "metadata": {
    "scrolled": true
   },
   "outputs": [
    {
     "data": {
      "text/plain": [
       "[{'_id': {'name': 'Clement'}, 'count': 114},\n",
       " {'_id': {'name': 'Jocelyne'}, 'count': 105},\n",
       " {'_id': {'name': 'Leon'}, 'count': 104},\n",
       " {'_id': {'name': 'Monique'}, 'count': 102},\n",
       " {'_id': {'name': 'Robert'}, 'count': 99},\n",
       " {'_id': {'name': 'Michel'}, 'count': 98},\n",
       " {'_id': {'name': 'Albertine'}, 'count': 90},\n",
       " {'_id': {'name': 'Jean-Leon'}, 'count': 89},\n",
       " {'_id': {'name': 'ndra'}, 'count': 5},\n",
       " {'_id': {'name': 'drna'}, 'count': 3},\n",
       " {'_id': {'name': 'rnda'}, 'count': 3},\n",
       " {'_id': {'name': 'darn'}, 'count': 3},\n",
       " {'_id': {'name': 'dran'}, 'count': 3},\n",
       " {'_id': {'name': 'ndar'}, 'count': 2},\n",
       " {'_id': {'name': 'rand'}, 'count': 2},\n",
       " {'_id': {'name': 'lhcMei'}, 'count': 2},\n",
       " {'_id': {'name': 'rdna'}, 'count': 2},\n",
       " {'_id': {'name': 'arnd'}, 'count': 2},\n",
       " {'_id': {'name': 'dnra'}, 'count': 2},\n",
       " {'_id': {'name': 'dnar'}, 'count': 2},\n",
       " {'_id': {'name': 'eLon'}, 'count': 2},\n",
       " {'_id': {'name': 'ardn'}, 'count': 2},\n",
       " {'_id': {'name': 'neoL'}, 'count': 2},\n",
       " {'_id': {'name': 'nrad'}, 'count': 2},\n",
       " {'_id': {'name': 'danr'}, 'count': 2},\n",
       " {'_id': {'name': 'oneL'}, 'count': 2},\n",
       " {'_id': {'name': 'adnr'}, 'count': 2},\n",
       " {'_id': {'name': 'eunioqM'}, 'count': 1},\n",
       " {'_id': {'name': 'oLne'}, 'count': 1},\n",
       " {'_id': {'name': 'hcielM'}, 'count': 1},\n",
       " {'_id': {'name': 'beroRt'}, 'count': 1},\n",
       " {'_id': {'name': 'eaLe-oJnn'}, 'count': 1},\n",
       " {'_id': {'name': 'iqneuoM'}, 'count': 1},\n",
       " {'_id': {'name': 'ionqeuM'}, 'count': 1},\n",
       " {'_id': {'name': 'nrtiAbele'}, 'count': 1},\n",
       " {'_id': {'name': 'oenL'}, 'count': 1},\n",
       " {'_id': {'name': 'annLo-eeJ'}, 'count': 1},\n",
       " {'_id': {'name': 'nMoeuqi'}, 'count': 1},\n",
       " {'_id': {'name': 'no-JLneae'}, 'count': 1},\n",
       " {'_id': {'name': 'rnad'}, 'count': 1},\n",
       " {'_id': {'name': 'Lonnae-eJ'}, 'count': 1},\n",
       " {'_id': {'name': 'nmtleeC'}, 'count': 1},\n",
       " {'_id': {'name': 'ioMqenu'}, 'count': 1},\n",
       " {'_id': {'name': 'nuieMoq'}, 'count': 1},\n",
       " {'_id': {'name': 'oLen'}, 'count': 1},\n",
       " {'_id': {'name': 'Jenoae-nL'}, 'count': 1},\n",
       " {'_id': {'name': 'rAetienlb'}, 'count': 1},\n",
       " {'_id': {'name': 'nadr'}, 'count': 1},\n",
       " {'_id': {'name': 'tnemeCl'}, 'count': 1},\n",
       " {'_id': {'name': 'ltemnCe'}, 'count': 1},\n",
       " {'_id': {'name': 'inqueoM'}, 'count': 1},\n",
       " {'_id': {'name': 'nclyeJeo'}, 'count': 1},\n",
       " {'_id': {'name': 'neLoneaJ-'}, 'count': 1},\n",
       " {'_id': {'name': 'Mqeionu'}, 'count': 1},\n",
       " {'_id': {'name': 'nLoe'}, 'count': 1},\n",
       " {'_id': {'name': 'quMnieo'}, 'count': 1},\n",
       " {'_id': {'name': 'radn'}, 'count': 1},\n",
       " {'_id': {'name': 'eJncoyle'}, 'count': 1},\n",
       " {'_id': {'name': 'Mielch'}, 'count': 1},\n",
       " {'_id': {'name': 'Mehicl'}, 'count': 1},\n",
       " {'_id': {'name': 'clMhie'}, 'count': 1},\n",
       " {'_id': {'name': 'qoMinue'}, 'count': 1},\n",
       " {'_id': {'name': 'elenJcyo'}, 'count': 1},\n",
       " {'_id': {'name': 'Ctelmne'}, 'count': 1},\n",
       " {'_id': {'name': 'lMchie'}, 'count': 1},\n",
       " {'_id': {'name': 'nquoeiM'}, 'count': 1},\n",
       " {'_id': {'name': 'hlecMi'}, 'count': 1},\n",
       " {'_id': {'name': 'nLeoena-J'}, 'count': 1},\n",
       " {'_id': {'name': 'nard'}, 'count': 1},\n",
       " {'_id': {'name': 'eCenmtl'}, 'count': 1},\n",
       " {'_id': {'name': 'ciMehl'}, 'count': 1},\n",
       " {'_id': {'name': 'Rtreob'}, 'count': 1},\n",
       " {'_id': {'name': 'JeoneanL-'}, 'count': 1},\n",
       " {'_id': {'name': 'bretAenil'}, 'count': 1},\n",
       " {'_id': {'name': 'iqnMeou'}, 'count': 1},\n",
       " {'_id': {'name': 'qeMoiun'}, 'count': 1},\n",
       " {'_id': {'name': 'treRob'}, 'count': 1},\n",
       " {'_id': {'name': 'eoynJlec'}, 'count': 1},\n",
       " {'_id': {'name': 'eMionqu'}, 'count': 1},\n",
       " {'_id': {'name': 'cMlhie'}, 'count': 1},\n",
       " {'_id': {'name': 'nuqMeio'}, 'count': 1},\n",
       " {'_id': {'name': 'beAtneilr'}, 'count': 1},\n",
       " {'_id': {'name': 'eotrRb'}, 'count': 1},\n",
       " {'_id': {'name': 'yeclJnoe'}, 'count': 1},\n",
       " {'_id': {'name': 'enyleJoc'}, 'count': 1},\n",
       " {'_id': {'name': 'ltrbeeinA'}, 'count': 1},\n",
       " {'_id': {'name': 'oerRbt'}, 'count': 1},\n",
       " {'_id': {'name': 'lhciMe'}, 'count': 1},\n",
       " {'_id': {'name': 'nbiertAel'}, 'count': 1},\n",
       " {'_id': {'name': 'ielhMc'}, 'count': 1},\n",
       " {'_id': {'name': 'hMleic'}, 'count': 1},\n",
       " {'_id': {'name': 'ielbrentA'}, 'count': 1},\n",
       " {'_id': {'name': 'neLo'}, 'count': 1},\n",
       " {'_id': {'name': 'oelcyJne'}, 'count': 1},\n",
       " {'_id': {'name': 'ieretnblA'}, 'count': 1},\n",
       " {'_id': {'name': 'Jcyoleen'}, 'count': 1},\n",
       " {'_id': {'name': 'a-oenneLJ'}, 'count': 1},\n",
       " {'_id': {'name': 'orbetR'}, 'count': 1},\n",
       " {'_id': {'name': 'otrbRe'}, 'count': 1},\n",
       " {'_id': {'name': 'etbrRo'}, 'count': 1},\n",
       " {'_id': {'name': 'nJlyeoce'}, 'count': 1},\n",
       " {'_id': {'name': 'elecoJny'}, 'count': 1},\n",
       " {'_id': {'name': 'eoeclyJn'}, 'count': 1},\n",
       " {'_id': {'name': 'ionMque'}, 'count': 1},\n",
       " {'_id': {'name': 'iAreltnbe'}, 'count': 1},\n",
       " {'_id': {'name': 'enaeoJn-L'}, 'count': 1},\n",
       " {'_id': {'name': 'nAlreitbe'}, 'count': 1},\n",
       " {'_id': {'name': 'ntriAblee'}, 'count': 1},\n",
       " {'_id': {'name': 'oeuMqni'}, 'count': 1},\n",
       " {'_id': {'name': 'e-eJnnLao'}, 'count': 1},\n",
       " {'_id': {'name': 'Retobr'}, 'count': 1},\n",
       " {'_id': {'name': 'eiMchl'}, 'count': 1},\n",
       " {'_id': {'name': 'erbotR'}, 'count': 1},\n",
       " {'_id': {'name': 'ebRrto'}, 'count': 1},\n",
       " {'_id': {'name': 'Lnene-Joa'}, 'count': 1},\n",
       " {'_id': {'name': 'bRerto'}, 'count': 1},\n",
       " {'_id': {'name': 'etenmCl'}, 'count': 1},\n",
       " {'_id': {'name': 'hecMil'}, 'count': 1},\n",
       " {'_id': {'name': 'enLo'}, 'count': 1},\n",
       " {'_id': {'name': 'Cmtelen'}, 'count': 1},\n",
       " {'_id': {'name': 'Mhilec'}, 'count': 1},\n",
       " {'_id': {'name': 'lnyeJcoe'}, 'count': 1},\n",
       " {'_id': {'name': 'lehMic'}, 'count': 1},\n",
       " {'_id': {'name': 'Alibretne'}, 'count': 1},\n",
       " {'_id': {'name': 'JanneeoL-'}, 'count': 1},\n",
       " {'_id': {'name': 'niueqMo'}, 'count': 1},\n",
       " {'_id': {'name': 'Mhilce'}, 'count': 1},\n",
       " {'_id': {'name': 'euiMnoq'}, 'count': 1},\n",
       " {'_id': {'name': 'oJeyelcn'}, 'count': 1},\n",
       " {'_id': {'name': 'Abtenrlei'}, 'count': 1},\n",
       " {'_id': {'name': 'eMlchi'}, 'count': 1},\n",
       " {'_id': {'name': 'LoannJee-'}, 'count': 1},\n",
       " {'_id': {'name': 'btArineel'}, 'count': 1},\n",
       " {'_id': {'name': 'uMenoiq'}, 'count': 1},\n",
       " {'_id': {'name': 'etenrbiAl'}, 'count': 1},\n",
       " {'_id': {'name': 'telnCem'}, 'count': 1},\n",
       " {'_id': {'name': 'Jyeelcon'}, 'count': 1},\n",
       " {'_id': {'name': 'tlCemne'}, 'count': 1},\n",
       " {'_id': {'name': 'eJaLn-one'}, 'count': 1},\n",
       " {'_id': {'name': 'eilcMh'}, 'count': 1},\n",
       " {'_id': {'name': 'Aielrtenb'}, 'count': 1},\n",
       " {'_id': {'name': 'oJnLnae-e'}, 'count': 1},\n",
       " {'_id': {'name': 'lJeneocy'}, 'count': 1},\n",
       " {'_id': {'name': 'noLe'}, 'count': 1},\n",
       " {'_id': {'name': 'Jelcnyoe'}, 'count': 1},\n",
       " {'_id': {'name': 'andr'}, 'count': 1},\n",
       " {'_id': {'name': 'Mclhei'}, 'count': 1},\n",
       " {'_id': {'name': 'eritbAlne'}, 'count': 1},\n",
       " {'_id': {'name': 'eRtrbo'}, 'count': 1},\n",
       " {'_id': {'name': 'Rtobre'}, 'count': 1},\n",
       " {'_id': {'name': 'ebniAerlt'}, 'count': 1},\n",
       " {'_id': {'name': 'tirAneelb'}, 'count': 1},\n",
       " {'_id': {'name': 'enletCm'}, 'count': 1},\n",
       " {'_id': {'name': 'rdan'}, 'count': 1},\n",
       " {'_id': {'name': 'ceeyolJn'}, 'count': 1},\n",
       " {'_id': {'name': 'elencyJo'}, 'count': 1},\n",
       " {'_id': {'name': 'Muqinoe'}, 'count': 1},\n",
       " {'_id': {'name': 'teRorb'}, 'count': 1},\n",
       " {'_id': {'name': 'enoenJ-aL'}, 'count': 1},\n",
       " {'_id': {'name': 'oeLnJaen-'}, 'count': 1},\n",
       " {'_id': {'name': 'Lnoe'}, 'count': 1},\n",
       " {'_id': {'name': 'mnCtlee'}, 'count': 1},\n",
       " {'_id': {'name': 'ilerAetbn'}, 'count': 1},\n",
       " {'_id': {'name': 'Arntiebel'}, 'count': 1},\n",
       " {'_id': {'name': 'tmneCle'}, 'count': 1},\n",
       " {'_id': {'name': 'Jeoenycl'}, 'count': 1},\n",
       " {'_id': {'name': 'yeelcJno'}, 'count': 1},\n",
       " {'_id': {'name': 'nrda'}, 'count': 1},\n",
       " {'_id': {'name': 'Lone'}, 'count': 1},\n",
       " {'_id': {'name': 'enLeaonJ-'}, 'count': 1},\n",
       " {'_id': {'name': 'oeLn'}, 'count': 1},\n",
       " {'_id': {'name': 'eborRt'}, 'count': 1},\n",
       " {'_id': {'name': 'brotRe'}, 'count': 1},\n",
       " {'_id': {'name': 'nelJoecy'}, 'count': 1},\n",
       " {'_id': {'name': 'nltbreieA'}, 'count': 1},\n",
       " {'_id': {'name': 'aLeone-Jn'}, 'count': 1},\n",
       " {'_id': {'name': 'ernbAietl'}, 'count': 1},\n",
       " {'_id': {'name': 'oueqniM'}, 'count': 1},\n",
       " {'_id': {'name': 'leAenirtb'}, 'count': 1},\n",
       " {'_id': {'name': 'aeoJnen-L'}, 'count': 1},\n",
       " {'_id': {'name': 'Mqeunoi'}, 'count': 1}]"
      ]
     },
     "execution_count": 5,
     "metadata": {},
     "output_type": "execute_result"
    }
   ],
   "source": [
    "#Q8\n",
    "cursor = collection.aggregate(\n",
    "   [\n",
    "      {\"$group\": { \"_id\": { \"name\" : \"$user\"}, \"count\": { \"$sum\": 1 } } },\n",
    "      {\"$sort\" : {\"count\" : -1 }}\n",
    "   ]\n",
    ")\n",
    "[r for r in cursor]"
   ]
  },
  {
   "cell_type": "code",
   "execution_count": 6,
   "metadata": {
    "scrolled": true
   },
   "outputs": [
    {
     "data": {
      "text/plain": [
       "'Clement'"
      ]
     },
     "execution_count": 6,
     "metadata": {},
     "output_type": "execute_result"
    }
   ],
   "source": [
    "#Q8\n",
    "cursor = collection.aggregate(\n",
    "   [\n",
    "      {\"$group\": { \"_id\": \"$user\", \"count\": { \"$sum\": 1 } } },\n",
    "      {\"$sort\" : {\"count\" : -1 }}\n",
    "   ]\n",
    ")\n",
    "name_max_occ = cursor.next()[\"_id\"]\n",
    "name_max_occ"
   ]
  },
  {
   "cell_type": "code",
   "execution_count": 7,
   "metadata": {},
   "outputs": [
    {
     "data": {
      "text/plain": [
       "[{'_id': None, 'sum_limit': 1562}]"
      ]
     },
     "execution_count": 7,
     "metadata": {},
     "output_type": "execute_result"
    }
   ],
   "source": [
    "#Q9 \n",
    "cursor = collection.aggregate(\n",
    "   [\n",
    "      {\"$match\": {\"user\": name_max_occ} },\n",
    "      {\"$group\": { \"_id\": None, \"sum_limit\": { \"$sum\": \"$content.limit\" } } },\n",
    "   ]\n",
    ")\n",
    "[r for r in cursor]"
   ]
  },
  {
   "cell_type": "code",
   "execution_count": 8,
   "metadata": {},
   "outputs": [
    {
     "data": {
      "text/plain": [
       "[{'_id': None, 'sum_limit': 15.465346534653465}]"
      ]
     },
     "execution_count": 8,
     "metadata": {},
     "output_type": "execute_result"
    }
   ],
   "source": [
    "#Q10\n",
    "cursor = collection.aggregate(\n",
    "   [\n",
    "      {\"$match\": {\"user\": name_max_occ} },\n",
    "      {\"$group\": { \"_id\": None, \"sum_limit\": { \"$avg\": \"$content.limit\" } } },\n",
    "   ]\n",
    ")\n",
    "[r for r in cursor]"
   ]
  },
  {
   "cell_type": "code",
   "execution_count": 9,
   "metadata": {},
   "outputs": [
    {
     "data": {
      "text/plain": [
       "[{'_id': None, 'min_limit': 1}]"
      ]
     },
     "execution_count": 9,
     "metadata": {},
     "output_type": "execute_result"
    }
   ],
   "source": [
    "#Q11\n",
    "cursor = collection.aggregate(\n",
    "   [\n",
    "      {\"$match\": {\"user\": name_max_occ} },\n",
    "      {\"$group\": { \"_id\": None, \"min_limit\": { \"$min\": \"$content.limit\" } } },\n",
    "   ]\n",
    ")\n",
    "[r for r in cursor]"
   ]
  },
  {
   "cell_type": "code",
   "execution_count": 10,
   "metadata": {},
   "outputs": [
    {
     "data": {
      "text/plain": [
       "[{'_id': None, 'max_limit': []}]"
      ]
     },
     "execution_count": 10,
     "metadata": {},
     "output_type": "execute_result"
    }
   ],
   "source": [
    "#Q11\n",
    "cursor = collection.aggregate(\n",
    "   [\n",
    "      {\"$match\": {\"user\": name_max_occ} },\n",
    "      {\"$group\": { \"_id\": None, \"max_limit\": { \"$max\": \"$content.limit\" } } },\n",
    "   ]\n",
    ")\n",
    "[r for r in cursor]"
   ]
  },
  {
   "cell_type": "code",
   "execution_count": 11,
   "metadata": {},
   "outputs": [],
   "source": [
    "# Parfois la valeur max est vide cela crée un bug (mais seulement pour le max)"
   ]
  },
  {
   "cell_type": "code",
   "execution_count": 12,
   "metadata": {},
   "outputs": [],
   "source": [
    "# solution on force l'existance"
   ]
  },
  {
   "cell_type": "code",
   "execution_count": 13,
   "metadata": {},
   "outputs": [
    {
     "data": {
      "text/plain": [
       "[{'_id': None, 'max_limit': 30}]"
      ]
     },
     "execution_count": 13,
     "metadata": {},
     "output_type": "execute_result"
    }
   ],
   "source": [
    "#Q11\n",
    "cursor = collection.aggregate(\n",
    "   [\n",
    "      {\"$match\": {\"user\": name_max_occ,\"content.limit\":{\"$exists\":True}}},\n",
    "      {\"$group\": { \"_id\": None, \"max_limit\": { \"$max\": \"$content.limit\" } } },\n",
    "   ]\n",
    ")\n",
    "[r for r in cursor]"
   ]
  },
  {
   "cell_type": "code",
   "execution_count": null,
   "metadata": {},
   "outputs": [],
   "source": []
  }
 ],
 "metadata": {
  "kernelspec": {
   "display_name": "Python 3",
   "language": "python",
   "name": "python3"
  },
  "language_info": {
   "codemirror_mode": {
    "name": "ipython",
    "version": 3
   },
   "file_extension": ".py",
   "mimetype": "text/x-python",
   "name": "python",
   "nbconvert_exporter": "python",
   "pygments_lexer": "ipython3",
   "version": "3.7.3"
  }
 },
 "nbformat": 4,
 "nbformat_minor": 2
}

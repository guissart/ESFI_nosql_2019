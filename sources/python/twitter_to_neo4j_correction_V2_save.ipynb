{
 "cells": [
  {
   "cell_type": "code",
   "execution_count": 1,
   "metadata": {},
   "outputs": [],
   "source": [
    "import tweepy\n",
    "from py2neo import Graph\n",
    "import re\n",
    "import json"
   ]
  },
  {
   "cell_type": "markdown",
   "metadata": {},
   "source": [
    "# Neo4j"
   ]
  },
  {
   "cell_type": "markdown",
   "metadata": {},
   "source": [
    "## Connexion"
   ]
  },
  {
   "cell_type": "code",
   "execution_count": 2,
   "metadata": {},
   "outputs": [
    {
     "data": {
      "text/plain": [
       "<Graph database=<Database uri='http://neo4j:7474' secure=False user_agent='py2neo/4.2.0 urllib3/1.24.2 Python/3.7.3-final-0 (linux)'> name='data'>"
      ]
     },
     "execution_count": 2,
     "metadata": {},
     "output_type": "execute_result"
    }
   ],
   "source": [
    "uri = \"http://neo4j:7474\" \n",
    "password=\"esgi_password\"\n",
    "graph = Graph(uri,password=password)\n",
    "graph"
   ]
  },
  {
   "cell_type": "markdown",
   "metadata": {},
   "source": [
    "## Suppresion du travail precedent"
   ]
  },
  {
   "cell_type": "code",
   "execution_count": 3,
   "metadata": {},
   "outputs": [
    {
     "data": {
      "text/plain": [
       "<py2neo.database.Cursor at 0x7fa4ee6d0588>"
      ]
     },
     "execution_count": 3,
     "metadata": {},
     "output_type": "execute_result"
    }
   ],
   "source": [
    "graph.run(\"MATCH (n) DETACH DELETE n\")"
   ]
  },
  {
   "cell_type": "code",
   "execution_count": 4,
   "metadata": {},
   "outputs": [
    {
     "data": {
      "text/plain": [
       "[]"
      ]
     },
     "execution_count": 4,
     "metadata": {},
     "output_type": "execute_result"
    }
   ],
   "source": [
    "graph.run(\"MATCH (n) RETURN n LIMIT 25\").data()"
   ]
  },
  {
   "cell_type": "markdown",
   "metadata": {},
   "source": [
    "# Twitter api"
   ]
  },
  {
   "cell_type": "markdown",
   "metadata": {},
   "source": [
    "### Token"
   ]
  },
  {
   "cell_type": "code",
   "execution_count": 5,
   "metadata": {},
   "outputs": [],
   "source": [
    "consumer_key = \"XXX\"\n",
    "consumer_secret = \"XXXX\"\n",
    "access_token = \"XXXX\"\n",
    "access_token_secret = \"XXXX\"\n"
   ]
  },
  {
   "cell_type": "markdown",
   "metadata": {},
   "source": [
    "### Authentification"
   ]
  },
  {
   "cell_type": "code",
   "execution_count": 6,
   "metadata": {},
   "outputs": [],
   "source": [
    "auth = tweepy.OAuthHandler(consumer_key, consumer_secret)\n",
    "auth.set_access_token(access_token, access_token_secret)\n"
   ]
  },
  {
   "cell_type": "code",
   "execution_count": 7,
   "metadata": {},
   "outputs": [],
   "source": [
    "api = tweepy.API(auth, wait_on_rate_limit=True, wait_on_rate_limit_notify=True)"
   ]
  },
  {
   "cell_type": "markdown",
   "metadata": {},
   "source": [
    "### Fonctions twitter"
   ]
  },
  {
   "cell_type": "code",
   "execution_count": 8,
   "metadata": {},
   "outputs": [],
   "source": [
    "def user_info(id_or_name, links=True):\n",
    "    try:\n",
    "        user = api.get_user(id_or_name)\n",
    "        direct_info = {\n",
    "            \"screen_name\": user.screen_name,\n",
    "            \"name\": user.name,\n",
    "            \"id\": user.id}\n",
    "    except tweepy.TweepError as e:\n",
    "        direct_info = {\n",
    "            \"screen_name\": 'unknown',\n",
    "            \"name\": 'unknown',\n",
    "            \"id\": 'unknown'}\n",
    "    \n",
    "    if links:\n",
    "        folower_ids = api.followers_ids(user.id)\n",
    "        friend_ids = api.friends_ids(user.id)\n",
    "        return direct_info, folower_ids, friend_ids\n",
    "    else:\n",
    "        return direct_info\n",
    "\n",
    "#direct_info, folower_ids, friend_ids = user_info(\"dataswati\", links=True)"
   ]
  },
  {
   "cell_type": "code",
   "execution_count": 10,
   "metadata": {},
   "outputs": [],
   "source": [
    "def tweet_info(tweet, text=True):\n",
    "    if text :\n",
    "        return {\n",
    "            \"id\": tweet.id,\n",
    "            \"text\": tweet.full_text,\n",
    "            \"user_id\": tweet.user.id,\n",
    "            \"user_name\": tweet.user.name,\n",
    "            \"user_screen_name\": tweet.user.screen_name,\n",
    "            \"hashtags\": tweet.entities['hashtags'],\n",
    "            \"mentions\": tweet.entities['user_mentions']\n",
    "        }\n",
    "    \n",
    "    else :\n",
    "        return {\n",
    "            \"id\": tweet.id,\n",
    "            \"user_id\": tweet.user.id,\n",
    "            \"user_name\": tweet.user.name,\n",
    "            \"user_screen_name\": tweet.user.screen_name}\n"
   ]
  },
  {
   "cell_type": "code",
   "execution_count": 11,
   "metadata": {},
   "outputs": [],
   "source": [
    "def retweets(tweet):\n",
    "    retweets = tweet.retweets()\n",
    "    return [tweet_info(retweet, text=False) for retweet in retweets]\n"
   ]
  },
  {
   "cell_type": "code",
   "execution_count": 12,
   "metadata": {},
   "outputs": [],
   "source": [
    "def user_timeline(id, look_retweet=False):\n",
    "    tweets = api.user_timeline(id, count=100, tweet_mode=\"extended\")\n",
    "    if look_retweet:\n",
    "        return [tweet_info(tweet) for tweet in tweets], [retweets(tweet) for tweet in tweets]\n",
    "    else :\n",
    "        return [tweet_info(tweet) for tweet in tweets]\n",
    "\n",
    "#user_timeline(direct_info[\"id\"], look_retweet=False)"
   ]
  },
  {
   "cell_type": "code",
   "execution_count": 13,
   "metadata": {},
   "outputs": [],
   "source": [
    "def user_mentioned(id, look_retweet=False):\n",
    "    tweets = api.search(q=\"Dataswati\", count=100,tweet_mode=\"extended\")\n",
    "    if look_retweet:\n",
    "        return [tweet_info(tweet) for tweet in tweets], [retweets(tweet) for tweet in tweets]\n",
    "    else:\n",
    "        return [tweet_info(tweet) for tweet in tweets]\n"
   ]
  },
  {
   "cell_type": "markdown",
   "metadata": {},
   "source": [
    "### Fonction construction graphe"
   ]
  },
  {
   "cell_type": "code",
   "execution_count": 14,
   "metadata": {},
   "outputs": [],
   "source": [
    "def graph_from_user(user):\n",
    "    \n",
    "    list_request = []\n",
    "    \n",
    "    # Info utilisateur\n",
    "    direct_info, folower_ids, friend_ids = user_info(user)\n",
    "    \n",
    "    user_node = \"(u:USER{name:'%s'})\" % direct_info[\"name\"]\n",
    "    request = \"MERGE %s\" % user_node\n",
    "    request += \"\\n SET u.id=%s\" % direct_info[\"id\"]\n",
    "    request += \"\\n SET u.screen_name='%s'\" % direct_info[\"screen_name\"]\n",
    "    graph.run(request)\n",
    "    list_request.append(request)\n",
    "    \n",
    "    # Recupere la timeline\n",
    "    timeline_tweets = user_timeline(direct_info[\"id\"], look_retweet=False)\n",
    "    mentioned_tweets = user_mentioned(direct_info[\"id\"], look_retweet=False)\n",
    "    \n",
    "    # Recupere chaque tweet & cree les liens entre user et tweet\n",
    "    for tweet in timeline_tweets:\n",
    "        request = \"MATCH %s\"%user_node\n",
    "        request += \"\\n MERGE (t:TWEET {id:%s})\"%tweet[\"id\"]\n",
    "        request += \"\\n MERGE (u)-[:TWEET]->(t)\"\n",
    "        request += \"\\n SET t.text=\\\"%s\\\"\"%tweet[\"text\"].replace(\"\\\"\",\"\\\\\\\"\")\n",
    "        \n",
    "        # Recherche les hashtags & cree les liens entre tweet et hashtag\n",
    "        for i, hashtag in enumerate(tweet[\"hashtags\"]):\n",
    "            request += \"MERGE (h%s:HASHTAG {name: '%s'})\"%(i, hashtag['text'])\n",
    "            request += \"\\n MERGE (t)-[:HASHTAG]-(h%s)\"%i\n",
    "            \n",
    "        # Recherche les mentions & cree les liens entre tweet et mention (il manque l'id de l'user)\n",
    "        for i, mention in enumerate(tweet[\"mentions\"]):\n",
    "            request += \"\\n MERGE (u%s:USER {screen_name:'%s', name:\\\"%s\\\", id:%s})\" % (\n",
    "                i, mention['screen_name'], mention['name'], mention['id'])\n",
    "            request += \"\\n MERGE (t)-[:MENTION]-(u%s)\" % i\n",
    "            \n",
    "        graph.run(request)    \n",
    "        list_request.append(request)\n",
    "    \n",
    "    # Même processus sur les mentions\n",
    "    for tweet in mentioned_tweets:\n",
    "        request = \" MERGE (u:USER {id:%s, name:'%s', screen_name:'%s'})\\n MERGE (t:TWEET {id:%s})\" % (\n",
    "            tweet[\"user_id\"], tweet[\"user_name\"], tweet[\"user_screen_name\"], tweet[\"id\"])\n",
    "        request += \"\\n MERGE (u)-[:TWEET]-(t)\"\n",
    "        request += \"\\n SET t.text=\\\"%s\\\"\"%tweet[\"text\"].replace(\"\\\"\",\"\\\\\\\"\")\n",
    "        \n",
    "        for i, hashtag in enumerate(tweet[\"hashtags\"]):\n",
    "            request += \"MERGE (h%s:HASHTAG {name: '%s'})\"%(i, hashtag['text'])\n",
    "            request += \"\\n MERGE (t)-[:HASHTAG]-(h%s)\"%i\n",
    "            \n",
    "        for i, mention in enumerate(tweet[\"mentions\"]):\n",
    "            request += \"\\n MERGE (u%s:USER {screen_name:'%s', name:\\\"%s\\\", id:%s})\" % (\n",
    "                i, mention['screen_name'], mention['name'], mention['id'])\n",
    "            request += \"\\n MERGE (t)-[:MENTION]-(u%s)\" % i\n",
    "            \n",
    "        graph.run(request)\n",
    "        list_request.append(request)\n",
    "\n",
    "    \n",
    "    # Cree lien entre user et followers\n",
    "    for folower_id in folower_ids:\n",
    "        direct_info_temp = user_info(folower_id, links=False)\n",
    "        request = \"MATCH %s \\n\" % user_node\n",
    "        request += \"MERGE (u1:USER {id:%s, screen_name:'%s', name:\\\"%s\\\"})\" % (\n",
    "            folower_id, direct_info_temp['screen_name'], direct_info_temp['name'])\n",
    "        request += \"MERGE (u1)-[:FOLLOW]->(u)\"\n",
    "        graph.run(request)    \n",
    "        list_request.append(request)\n",
    "\n",
    "    for friend_id in friend_ids:\n",
    "        direct_info_temp = user_info(friend_ids, links=False)\n",
    "        request = \"MATCH %s \\n\"%user_node\n",
    "        request += \"MERGE (u1:USER {id:%s, screen_name:'%s', name:\\\"%s\\\"})\" % (\n",
    "            friend_id, direct_info_temp['screen_name'], direct_info_temp['name'])\n",
    "        request += \"MERGE (u1)-[:FOLLOW]->(u)\"\n",
    "        graph.run(request)\n",
    "        list_request.append(request)\n",
    "    \n",
    "    request = \"MATCH (n) where n.name='unknown' DETACH DELETE (n)\"\n",
    "    graph.run(request)\n",
    "    list_request.append(request)\n",
    "    \n",
    "    return list_request\n",
    "    "
   ]
  },
  {
   "cell_type": "code",
   "execution_count": null,
   "metadata": {
    "scrolled": true
   },
   "outputs": [],
   "source": [
    "#graph.run(\"MATCH (n) DETACH DELETE n\")\n",
    "\n",
    "list_request = graph_from_user(\"dataswati\")\n"
   ]
  },
  {
   "cell_type": "code",
   "execution_count": null,
   "metadata": {},
   "outputs": [],
   "source": [
    "with open('../data/list_request_neo4j.txt', 'w') as outfile:\n",
    "    json.dump(list_request, outfile)\n"
   ]
  },
  {
   "cell_type": "code",
   "execution_count": null,
   "metadata": {},
   "outputs": [],
   "source": [
    "with open('../data/list_request_neo4j.txt') as json_data:\n",
    "    list_request = json.load(json_data)\n"
   ]
  },
  {
   "cell_type": "code",
   "execution_count": null,
   "metadata": {},
   "outputs": [],
   "source": [
    "graph.run(\"MATCH (n) DETACH DELETE n\")\n",
    "for request in list_request:\n",
    "    graph.run(request)"
   ]
  },
  {
   "cell_type": "code",
   "execution_count": null,
   "metadata": {},
   "outputs": [],
   "source": []
  }
 ],
 "metadata": {
  "kernelspec": {
   "display_name": "Python 3",
   "language": "python",
   "name": "python3"
  },
  "language_info": {
   "codemirror_mode": {
    "name": "ipython",
    "version": 3
   },
   "file_extension": ".py",
   "mimetype": "text/x-python",
   "name": "python",
   "nbconvert_exporter": "python",
   "pygments_lexer": "ipython3",
   "version": "3.7.3"
  }
 },
 "nbformat": 4,
 "nbformat_minor": 2
}
